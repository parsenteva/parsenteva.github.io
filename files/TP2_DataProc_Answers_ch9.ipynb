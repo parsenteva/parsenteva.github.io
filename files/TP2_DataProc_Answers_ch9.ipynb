{
 "cells": [
  {
   "cell_type": "markdown",
   "metadata": {},
   "source": [
    "# Data processing\n",
    "## Exercises"
   ]
  },
  {
   "cell_type": "code",
   "execution_count": 2,
   "metadata": {},
   "outputs": [],
   "source": [
    "import pandas as pd\n",
    "from pandas import read_csv, read_excel\n",
    "import numpy as np"
   ]
  },
  {
   "cell_type": "markdown",
   "metadata": {},
   "source": [
    "### 9.5\n",
    "1. The file SNP_20.csv contains three columns of data, the date, the return on the S&P 500, and the return on XOM (ExxonMobil). Using pandas, convert the date to YYYYMMDD format and save the file in .xlsx format."
   ]
  },
  {
   "cell_type": "code",
   "execution_count": 4,
   "metadata": {},
   "outputs": [
    {
     "data": {
      "text/plain": [
       "array([['2001-01-08', 1298.349976, 1298.349976, 1276.290039, 1295.859985,\n",
       "        1295.859985, 1115500000],\n",
       "       ['2001-01-09', 1295.859985, 1311.719971, 1295.140015, 1300.800049,\n",
       "        1300.800049, 1191300000],\n",
       "       ['2001-01-10', 1300.800049, 1313.76001, 1287.280029, 1313.27002,\n",
       "        1313.27002, 1296500000],\n",
       "       ['2001-01-11', 1313.27002, 1332.189941, 1309.719971, 1326.819946,\n",
       "        1326.819946, 1411200000]], dtype=object)"
      ]
     },
     "execution_count": 4,
     "metadata": {},
     "output_type": "execute_result"
    }
   ],
   "source": [
    "csv_data = read_csv('SNP_20.csv')\n",
    "csv_data_val = csv_data.values\n",
    "csv_data_val[:4]"
   ]
  },
  {
   "cell_type": "code",
   "execution_count": 44,
   "metadata": {},
   "outputs": [
    {
     "data": {
      "text/plain": [
       "pandas.core.frame.DataFrame"
      ]
     },
     "execution_count": 44,
     "metadata": {},
     "output_type": "execute_result"
    }
   ],
   "source": [
    "type(csv_data)"
   ]
  },
  {
   "cell_type": "code",
   "execution_count": 45,
   "metadata": {},
   "outputs": [
    {
     "data": {
      "text/plain": [
       "numpy.ndarray"
      ]
     },
     "execution_count": 45,
     "metadata": {},
     "output_type": "execute_result"
    }
   ],
   "source": [
    "type(csv_data_val)"
   ]
  },
  {
   "cell_type": "code",
   "execution_count": 46,
   "metadata": {},
   "outputs": [
    {
     "data": {
      "text/plain": [
       "Date          object\n",
       "Open         float64\n",
       "High         float64\n",
       "Low          float64\n",
       "Close        float64\n",
       "Adj Close    float64\n",
       "Volume         int64\n",
       "dtype: object"
      ]
     },
     "execution_count": 46,
     "metadata": {},
     "output_type": "execute_result"
    }
   ],
   "source": [
    "csv_data.dtypes"
   ]
  },
  {
   "cell_type": "code",
   "execution_count": 48,
   "metadata": {},
   "outputs": [
    {
     "data": {
      "text/html": [
       "<div>\n",
       "<style scoped>\n",
       "    .dataframe tbody tr th:only-of-type {\n",
       "        vertical-align: middle;\n",
       "    }\n",
       "\n",
       "    .dataframe tbody tr th {\n",
       "        vertical-align: top;\n",
       "    }\n",
       "\n",
       "    .dataframe thead th {\n",
       "        text-align: right;\n",
       "    }\n",
       "</style>\n",
       "<table border=\"1\" class=\"dataframe\">\n",
       "  <thead>\n",
       "    <tr style=\"text-align: right;\">\n",
       "      <th></th>\n",
       "      <th>Date</th>\n",
       "    </tr>\n",
       "  </thead>\n",
       "  <tbody>\n",
       "    <tr>\n",
       "      <th>0</th>\n",
       "      <td>2001-01-08</td>\n",
       "    </tr>\n",
       "    <tr>\n",
       "      <th>1</th>\n",
       "      <td>2001-01-09</td>\n",
       "    </tr>\n",
       "    <tr>\n",
       "      <th>2</th>\n",
       "      <td>2001-01-10</td>\n",
       "    </tr>\n",
       "    <tr>\n",
       "      <th>3</th>\n",
       "      <td>2001-01-11</td>\n",
       "    </tr>\n",
       "    <tr>\n",
       "      <th>4</th>\n",
       "      <td>2001-01-12</td>\n",
       "    </tr>\n",
       "    <tr>\n",
       "      <th>...</th>\n",
       "      <td>...</td>\n",
       "    </tr>\n",
       "    <tr>\n",
       "      <th>5025</th>\n",
       "      <td>2020-12-29</td>\n",
       "    </tr>\n",
       "    <tr>\n",
       "      <th>5026</th>\n",
       "      <td>2020-12-30</td>\n",
       "    </tr>\n",
       "    <tr>\n",
       "      <th>5027</th>\n",
       "      <td>2020-12-31</td>\n",
       "    </tr>\n",
       "    <tr>\n",
       "      <th>5028</th>\n",
       "      <td>2021-01-04</td>\n",
       "    </tr>\n",
       "    <tr>\n",
       "      <th>5029</th>\n",
       "      <td>2021-01-05</td>\n",
       "    </tr>\n",
       "  </tbody>\n",
       "</table>\n",
       "<p>5030 rows × 1 columns</p>\n",
       "</div>"
      ],
      "text/plain": [
       "            Date\n",
       "0     2001-01-08\n",
       "1     2001-01-09\n",
       "2     2001-01-10\n",
       "3     2001-01-11\n",
       "4     2001-01-12\n",
       "...          ...\n",
       "5025  2020-12-29\n",
       "5026  2020-12-30\n",
       "5027  2020-12-31\n",
       "5028  2021-01-04\n",
       "5029  2021-01-05\n",
       "\n",
       "[5030 rows x 1 columns]"
      ]
     },
     "execution_count": 48,
     "metadata": {},
     "output_type": "execute_result"
    }
   ],
   "source": [
    "csv_data.select_dtypes('object', ['int', 'float'])"
   ]
  },
  {
   "cell_type": "code",
   "execution_count": 15,
   "metadata": {},
   "outputs": [],
   "source": [
    "new_dates = csv_data_val[:,0].copy()"
   ]
  },
  {
   "cell_type": "code",
   "execution_count": 13,
   "metadata": {},
   "outputs": [
    {
     "data": {
      "text/plain": [
       "array(['2001-01-08', '2001-01-09', '2001-01-10', ..., '2020-12-31',\n",
       "       '2021-01-04', '2021-01-05'], dtype=object)"
      ]
     },
     "execution_count": 13,
     "metadata": {},
     "output_type": "execute_result"
    }
   ],
   "source": [
    "csv_data['Date'].values"
   ]
  },
  {
   "cell_type": "code",
   "execution_count": 16,
   "metadata": {},
   "outputs": [],
   "source": [
    "for i, s in enumerate(new_dates):\n",
    "    new_dates[i] = int(s[:4]+s[5:7]+s[8:10])"
   ]
  },
  {
   "cell_type": "code",
   "execution_count": 19,
   "metadata": {},
   "outputs": [
    {
     "data": {
      "text/plain": [
       "array([20010108, 20010109, 20010110, ..., 20201231, 20210104, 20210105])"
      ]
     },
     "execution_count": 19,
     "metadata": {},
     "output_type": "execute_result"
    }
   ],
   "source": [
    "new_dates.astype(int)"
   ]
  },
  {
   "cell_type": "code",
   "execution_count": 20,
   "metadata": {},
   "outputs": [],
   "source": [
    "csv_data['Date'] = new_dates.astype(int).copy()"
   ]
  },
  {
   "cell_type": "code",
   "execution_count": 21,
   "metadata": {},
   "outputs": [
    {
     "data": {
      "text/html": [
       "<div>\n",
       "<style scoped>\n",
       "    .dataframe tbody tr th:only-of-type {\n",
       "        vertical-align: middle;\n",
       "    }\n",
       "\n",
       "    .dataframe tbody tr th {\n",
       "        vertical-align: top;\n",
       "    }\n",
       "\n",
       "    .dataframe thead th {\n",
       "        text-align: right;\n",
       "    }\n",
       "</style>\n",
       "<table border=\"1\" class=\"dataframe\">\n",
       "  <thead>\n",
       "    <tr style=\"text-align: right;\">\n",
       "      <th></th>\n",
       "      <th>Date</th>\n",
       "      <th>Open</th>\n",
       "      <th>High</th>\n",
       "      <th>Low</th>\n",
       "      <th>Close</th>\n",
       "      <th>Adj Close</th>\n",
       "      <th>Volume</th>\n",
       "    </tr>\n",
       "  </thead>\n",
       "  <tbody>\n",
       "    <tr>\n",
       "      <th>0</th>\n",
       "      <td>20010108</td>\n",
       "      <td>1298.349976</td>\n",
       "      <td>1298.349976</td>\n",
       "      <td>1276.290039</td>\n",
       "      <td>1295.859985</td>\n",
       "      <td>1295.859985</td>\n",
       "      <td>1115500000</td>\n",
       "    </tr>\n",
       "    <tr>\n",
       "      <th>1</th>\n",
       "      <td>20010109</td>\n",
       "      <td>1295.859985</td>\n",
       "      <td>1311.719971</td>\n",
       "      <td>1295.140015</td>\n",
       "      <td>1300.800049</td>\n",
       "      <td>1300.800049</td>\n",
       "      <td>1191300000</td>\n",
       "    </tr>\n",
       "    <tr>\n",
       "      <th>2</th>\n",
       "      <td>20010110</td>\n",
       "      <td>1300.800049</td>\n",
       "      <td>1313.760010</td>\n",
       "      <td>1287.280029</td>\n",
       "      <td>1313.270020</td>\n",
       "      <td>1313.270020</td>\n",
       "      <td>1296500000</td>\n",
       "    </tr>\n",
       "    <tr>\n",
       "      <th>3</th>\n",
       "      <td>20010111</td>\n",
       "      <td>1313.270020</td>\n",
       "      <td>1332.189941</td>\n",
       "      <td>1309.719971</td>\n",
       "      <td>1326.819946</td>\n",
       "      <td>1326.819946</td>\n",
       "      <td>1411200000</td>\n",
       "    </tr>\n",
       "    <tr>\n",
       "      <th>4</th>\n",
       "      <td>20010112</td>\n",
       "      <td>1326.819946</td>\n",
       "      <td>1333.209961</td>\n",
       "      <td>1311.589966</td>\n",
       "      <td>1318.550049</td>\n",
       "      <td>1318.550049</td>\n",
       "      <td>1276000000</td>\n",
       "    </tr>\n",
       "    <tr>\n",
       "      <th>...</th>\n",
       "      <td>...</td>\n",
       "      <td>...</td>\n",
       "      <td>...</td>\n",
       "      <td>...</td>\n",
       "      <td>...</td>\n",
       "      <td>...</td>\n",
       "      <td>...</td>\n",
       "    </tr>\n",
       "    <tr>\n",
       "      <th>5025</th>\n",
       "      <td>20201229</td>\n",
       "      <td>3750.010010</td>\n",
       "      <td>3756.120117</td>\n",
       "      <td>3723.310059</td>\n",
       "      <td>3727.040039</td>\n",
       "      <td>3727.040039</td>\n",
       "      <td>3387030000</td>\n",
       "    </tr>\n",
       "    <tr>\n",
       "      <th>5026</th>\n",
       "      <td>20201230</td>\n",
       "      <td>3736.189941</td>\n",
       "      <td>3744.629883</td>\n",
       "      <td>3730.209961</td>\n",
       "      <td>3732.040039</td>\n",
       "      <td>3732.040039</td>\n",
       "      <td>3145200000</td>\n",
       "    </tr>\n",
       "    <tr>\n",
       "      <th>5027</th>\n",
       "      <td>20201231</td>\n",
       "      <td>3733.270020</td>\n",
       "      <td>3760.199951</td>\n",
       "      <td>3726.879883</td>\n",
       "      <td>3756.070068</td>\n",
       "      <td>3756.070068</td>\n",
       "      <td>3172510000</td>\n",
       "    </tr>\n",
       "    <tr>\n",
       "      <th>5028</th>\n",
       "      <td>20210104</td>\n",
       "      <td>3764.610107</td>\n",
       "      <td>3769.989990</td>\n",
       "      <td>3662.709961</td>\n",
       "      <td>3700.649902</td>\n",
       "      <td>3700.649902</td>\n",
       "      <td>5006680000</td>\n",
       "    </tr>\n",
       "    <tr>\n",
       "      <th>5029</th>\n",
       "      <td>20210105</td>\n",
       "      <td>3698.020020</td>\n",
       "      <td>3737.830078</td>\n",
       "      <td>3695.070068</td>\n",
       "      <td>3726.860107</td>\n",
       "      <td>3726.860107</td>\n",
       "      <td>4582620000</td>\n",
       "    </tr>\n",
       "  </tbody>\n",
       "</table>\n",
       "<p>5030 rows × 7 columns</p>\n",
       "</div>"
      ],
      "text/plain": [
       "          Date         Open         High          Low        Close  \\\n",
       "0     20010108  1298.349976  1298.349976  1276.290039  1295.859985   \n",
       "1     20010109  1295.859985  1311.719971  1295.140015  1300.800049   \n",
       "2     20010110  1300.800049  1313.760010  1287.280029  1313.270020   \n",
       "3     20010111  1313.270020  1332.189941  1309.719971  1326.819946   \n",
       "4     20010112  1326.819946  1333.209961  1311.589966  1318.550049   \n",
       "...        ...          ...          ...          ...          ...   \n",
       "5025  20201229  3750.010010  3756.120117  3723.310059  3727.040039   \n",
       "5026  20201230  3736.189941  3744.629883  3730.209961  3732.040039   \n",
       "5027  20201231  3733.270020  3760.199951  3726.879883  3756.070068   \n",
       "5028  20210104  3764.610107  3769.989990  3662.709961  3700.649902   \n",
       "5029  20210105  3698.020020  3737.830078  3695.070068  3726.860107   \n",
       "\n",
       "        Adj Close      Volume  \n",
       "0     1295.859985  1115500000  \n",
       "1     1300.800049  1191300000  \n",
       "2     1313.270020  1296500000  \n",
       "3     1326.819946  1411200000  \n",
       "4     1318.550049  1276000000  \n",
       "...           ...         ...  \n",
       "5025  3727.040039  3387030000  \n",
       "5026  3732.040039  3145200000  \n",
       "5027  3756.070068  3172510000  \n",
       "5028  3700.649902  5006680000  \n",
       "5029  3726.860107  4582620000  \n",
       "\n",
       "[5030 rows x 7 columns]"
      ]
     },
     "execution_count": 21,
     "metadata": {},
     "output_type": "execute_result"
    }
   ],
   "source": [
    "csv_data"
   ]
  },
  {
   "cell_type": "code",
   "execution_count": 22,
   "metadata": {},
   "outputs": [
    {
     "data": {
      "text/plain": [
       "array([[2.00101080e+07, 1.29834998e+03, 1.29834998e+03, 1.27629004e+03,\n",
       "        1.29585999e+03, 1.29585999e+03, 1.11550000e+09],\n",
       "       [2.00101090e+07, 1.29585999e+03, 1.31171997e+03, 1.29514001e+03,\n",
       "        1.30080005e+03, 1.30080005e+03, 1.19130000e+09],\n",
       "       [2.00101100e+07, 1.30080005e+03, 1.31376001e+03, 1.28728003e+03,\n",
       "        1.31327002e+03, 1.31327002e+03, 1.29650000e+09],\n",
       "       [2.00101110e+07, 1.31327002e+03, 1.33218994e+03, 1.30971997e+03,\n",
       "        1.32681995e+03, 1.32681995e+03, 1.41120000e+09]])"
      ]
     },
     "execution_count": 22,
     "metadata": {},
     "output_type": "execute_result"
    }
   ],
   "source": [
    "csv_data.values[:4]"
   ]
  },
  {
   "cell_type": "code",
   "execution_count": 25,
   "metadata": {},
   "outputs": [],
   "source": [
    "csv_data.to_excel('SNP_20.xlsx')"
   ]
  }
 ],
 "metadata": {
  "kernelspec": {
   "display_name": "Python 3 (ipykernel)",
   "language": "python",
   "name": "python3"
  },
  "language_info": {
   "codemirror_mode": {
    "name": "ipython",
    "version": 3
   },
   "file_extension": ".py",
   "mimetype": "text/x-python",
   "name": "python",
   "nbconvert_exporter": "python",
   "pygments_lexer": "ipython3",
   "version": "3.10.4"
  }
 },
 "nbformat": 4,
 "nbformat_minor": 4
}
